{
 "cells": [
  {
   "metadata": {
    "ExecuteTime": {
     "end_time": "2024-09-29T16:23:22.178326Z",
     "start_time": "2024-09-29T16:23:22.174562Z"
    }
   },
   "cell_type": "code",
   "source": [
    "# !pip install tiktoken\n",
    "# !pip install torch"
   ],
   "id": "67b7e4e2737fc19",
   "outputs": [],
   "execution_count": 152
  },
  {
   "metadata": {
    "ExecuteTime": {
     "end_time": "2024-09-29T16:25:49.174983Z",
     "start_time": "2024-09-29T16:25:49.172169Z"
    }
   },
   "cell_type": "code",
   "source": [
    "import requests\n",
    "import tiktoken\n",
    "import torch\n",
    "from torch.utils.data import Dataset, DataLoader"
   ],
   "id": "initial_id",
   "outputs": [],
   "execution_count": 159
  },
  {
   "metadata": {
    "ExecuteTime": {
     "end_time": "2024-09-29T16:25:49.715983Z",
     "start_time": "2024-09-29T16:25:49.363060Z"
    }
   },
   "cell_type": "code",
   "source": [
    "url = \"https://raw.githubusercontent.com/karpathy/char-rnn/master/data/tinyshakespeare/input.txt\"\n",
    "text = requests.get(url).text"
   ],
   "id": "f7ddc18e43aa6d43",
   "outputs": [],
   "execution_count": 160
  },
  {
   "metadata": {
    "ExecuteTime": {
     "end_time": "2024-09-29T16:25:49.827372Z",
     "start_time": "2024-09-29T16:25:49.717658Z"
    }
   },
   "cell_type": "code",
   "source": [
    "tokenizer = tiktoken.get_encoding(\"gpt2\")\n",
    "print(f\"{len(text)=}\")\n",
    "print(f\"{len(tokenizer.encode(text))=}\")\n",
    "\n",
    "encoded_text_100 = tokenizer.encode(text[:100])\n",
    "print(f\"{encoded_text_100=}\")\n",
    "decoded_text_100 = tokenizer.decode(encoded_text_100)\n",
    "print(f\"{decoded_text_100=}\")"
   ],
   "id": "1b970115d290fce5",
   "outputs": [
    {
     "name": "stdout",
     "output_type": "stream",
     "text": [
      "len(text)=1115394\n",
      "len(tokenizer.encode(text))=338025\n",
      "encoded_text_100=[5962, 22307, 25, 198, 8421, 356, 5120, 597, 2252, 11, 3285, 502, 2740, 13, 198, 198, 3237, 25, 198, 5248, 461, 11, 2740, 13, 198, 198, 5962, 22307, 25, 198, 1639]\n",
      "decoded_text_100='First Citizen:\\nBefore we proceed any further, hear me speak.\\n\\nAll:\\nSpeak, speak.\\n\\nFirst Citizen:\\nYou'\n"
     ]
    }
   ],
   "execution_count": 161
  },
  {
   "metadata": {
    "ExecuteTime": {
     "end_time": "2024-09-29T16:25:50.559464Z",
     "start_time": "2024-09-29T16:25:50.554156Z"
    }
   },
   "cell_type": "code",
   "source": [
    "class InMemoryDataset(Dataset):\n",
    "    def __init__(self, text: str, tokenizer, max_length: int, stride: int):\n",
    "        self.input_ids = []\n",
    "        self.target_ids = []\n",
    "        token_ids = tokenizer.encode(text)\n",
    "        for i in range(0, len(token_ids) - max_length, stride):\n",
    "            input_chunk = token_ids[i:i + max_length]\n",
    "            target_chunk = token_ids[i + 1: i + max_length + 1]\n",
    "            self.input_ids.append(torch.tensor(input_chunk))\n",
    "            self.target_ids.append(torch.tensor(target_chunk))\n",
    "            \n",
    "    def __len__(self):\n",
    "        return len(self.input_ids)\n",
    "        \n",
    "    def __getitem__(self, idx):\n",
    "        return self.input_ids[idx], self.target_ids[idx]"
   ],
   "id": "ee99b131f48f1c52",
   "outputs": [],
   "execution_count": 162
  },
  {
   "metadata": {
    "ExecuteTime": {
     "end_time": "2024-09-29T16:52:00.486567Z",
     "start_time": "2024-09-29T16:52:00.480492Z"
    }
   },
   "cell_type": "code",
   "source": [
    "ds = InMemoryDataset(text[:1_000], tokenizer, max_length=4, stride=1)\n",
    "print(f\"{len(ds)=}\")\n",
    "print(f\"x[0]: {ds[4][0]}\")\n",
    "print(f\"y[0]:       {ds[4][1]}\")\n",
    "print(f\"x[0]: {tokenizer.decode(list(ds[4][0]))}\")\n",
    "print(f\"y[0]:       {tokenizer.decode(list(ds[4][1]))}\")\n"
   ],
   "id": "aa07771946e1d258",
   "outputs": [
    {
     "name": "stdout",
     "output_type": "stream",
     "text": [
      "len(ds)=281\n",
      "x[0]: tensor([8421,  356, 5120,  597])\n",
      "y[0]:       tensor([ 356, 5120,  597, 2252])\n",
      "x[0]: Before we proceed any\n",
      "y[0]:        we proceed any further\n"
     ]
    }
   ],
   "execution_count": 185
  },
  {
   "metadata": {
    "ExecuteTime": {
     "end_time": "2024-09-29T16:56:42.095370Z",
     "start_time": "2024-09-29T16:56:42.091813Z"
    }
   },
   "cell_type": "code",
   "source": [
    "dataloader = DataLoader(\n",
    "    ds,\n",
    "    batch_size=5,\n",
    "    shuffle=False,\n",
    "    drop_last=True,\n",
    "    num_workers=0,\n",
    ")\n",
    "batch_1 = next(iter(dataloader))\n",
    "print(\"Batch 1 | Input:\\n\", batch_1[0])\n",
    "print(\"Batch 1 | Output:\\n\", batch_1[1])"
   ],
   "id": "1e01431986455772",
   "outputs": [
    {
     "name": "stdout",
     "output_type": "stream",
     "text": [
      "Batch 1 | Input:\n",
      " tensor([[ 5962, 22307,    25,   198],\n",
      "        [22307,    25,   198,  8421],\n",
      "        [   25,   198,  8421,   356],\n",
      "        [  198,  8421,   356,  5120],\n",
      "        [ 8421,   356,  5120,   597]])\n",
      "Batch 1 | Output:\n",
      " tensor([[22307,    25,   198,  8421],\n",
      "        [   25,   198,  8421,   356],\n",
      "        [  198,  8421,   356,  5120],\n",
      "        [ 8421,   356,  5120,   597],\n",
      "        [  356,  5120,   597,  2252]])\n"
     ]
    }
   ],
   "execution_count": 192
  },
  {
   "metadata": {},
   "cell_type": "markdown",
   "source": "",
   "id": "7043aebc6daf098c"
  }
 ],
 "metadata": {
  "kernelspec": {
   "display_name": "Python 3",
   "language": "python",
   "name": "python3"
  },
  "language_info": {
   "codemirror_mode": {
    "name": "ipython",
    "version": 2
   },
   "file_extension": ".py",
   "mimetype": "text/x-python",
   "name": "python",
   "nbconvert_exporter": "python",
   "pygments_lexer": "ipython2",
   "version": "2.7.6"
  }
 },
 "nbformat": 4,
 "nbformat_minor": 5
}
