{
 "cells": [
  {
   "cell_type": "code",
   "id": "initial_id",
   "metadata": {
    "collapsed": true,
    "ExecuteTime": {
     "end_time": "2024-09-28T21:05:46.861986Z",
     "start_time": "2024-09-28T21:05:46.858940Z"
    }
   },
   "source": [
    "from pathlib import Path\n",
    "import re"
   ],
   "outputs": [],
   "execution_count": 33
  },
  {
   "metadata": {
    "ExecuteTime": {
     "end_time": "2024-09-28T21:05:58.066755Z",
     "start_time": "2024-09-28T21:05:58.063014Z"
    }
   },
   "cell_type": "code",
   "source": "text = Path('text.txt').read_text()",
   "id": "df7ec066aa6475e2",
   "outputs": [],
   "execution_count": 35
  },
  {
   "metadata": {
    "ExecuteTime": {
     "end_time": "2024-09-28T21:15:17.644250Z",
     "start_time": "2024-09-28T21:15:17.640144Z"
    }
   },
   "cell_type": "code",
   "source": [
    "class Tokenizer:\n",
    "    \n",
    "    def __init__(self, stoi: dict[str, int]):\n",
    "        self.stoi = stoi\n",
    "        self.itos = {i: s for s, i in stoi.items()}\n",
    "        \n",
    "    @staticmethod\n",
    "    def _text_to_tokens(text: str) -> list[str]:\n",
    "        tokens = re.split(r'([,.:;?_!\"()\\']|--|\\s)', text)\n",
    "        return [t for t in tokens if t.strip()]\n",
    "        \n",
    "    @classmethod\n",
    "    def train(cls, text: str) -> 'Tokenizer':\n",
    "        print(f\"{len(text)=}\")\n",
    "        tokens = cls._text_to_tokens(text)\n",
    "        print(f\"{tokens[:5]=}\")\n",
    "        print(f\"{len(tokens)=}\")\n",
    "        vocab = sorted(set(tokens))\n",
    "        print(f\"{len(vocab)=}\")\n",
    "        stoi = {s: i for i, s in enumerate(vocab)}\n",
    "        return cls(stoi)\n",
    "        \n",
    "    def encode(self, text: str) -> list[int]:\n",
    "        tokens = self._text_to_tokens(text)\n",
    "        token_ids = [self.stoi[s] for s in tokens]\n",
    "        return token_ids\n",
    "    \n",
    "    def decode(self, token_ids: list[int]) -> str:\n",
    "        text = ' '.join([self.itos[i] for i in token_ids])\n",
    "        text = re.sub(r'\\s+([,.?!\"()\\'])', r'\\1', text)\n",
    "        return text"
   ],
   "id": "ab6b906502606124",
   "outputs": [],
   "execution_count": 62
  },
  {
   "metadata": {
    "ExecuteTime": {
     "end_time": "2024-09-28T21:15:18.126872Z",
     "start_time": "2024-09-28T21:15:18.123775Z"
    }
   },
   "cell_type": "code",
   "source": [
    "print(f\"{text[:50]=}\")\n",
    "tokenizer = Tokenizer.train(text)\n",
    "new_text = \"lazy dog reduce carbon emissions.\"\n",
    "print(f\"{new_text=}\")\n",
    "token_ids = tokenizer.encode(new_text)\n",
    "print(f\"{token_ids=}\")\n",
    "decoded = tokenizer.decode(token_ids)\n",
    "print(f\"{decoded=}\")"
   ],
   "id": "b4cb6c37f3fc46ff",
   "outputs": [
    {
     "name": "stdout",
     "output_type": "stream",
     "text": [
      "text[:50]='In the vast expanse of space, stars form from clou'\n",
      "len(text)=947\n",
      "tokens[:5]=['In', 'the', 'vast', 'expanse', 'of']\n",
      "len(tokens)=162\n",
      "len(vocab)=120\n",
      "new_text='lazy dog reduce carbon emissions.'\n",
      "token_ids=[65, 39, 90, 23, 42, 1]\n",
      "decoded='lazy dog reduce carbon emissions.'\n"
     ]
    }
   ],
   "execution_count": 63
  },
  {
   "metadata": {},
   "cell_type": "code",
   "outputs": [],
   "execution_count": null,
   "source": "",
   "id": "cf8545b009e2ccfe"
  }
 ],
 "metadata": {
  "kernelspec": {
   "display_name": "Python 3",
   "language": "python",
   "name": "python3"
  },
  "language_info": {
   "codemirror_mode": {
    "name": "ipython",
    "version": 2
   },
   "file_extension": ".py",
   "mimetype": "text/x-python",
   "name": "python",
   "nbconvert_exporter": "python",
   "pygments_lexer": "ipython2",
   "version": "2.7.6"
  }
 },
 "nbformat": 4,
 "nbformat_minor": 5
}
