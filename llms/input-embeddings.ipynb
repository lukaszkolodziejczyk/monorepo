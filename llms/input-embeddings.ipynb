{
 "cells": [
  {
   "metadata": {
    "ExecuteTime": {
     "end_time": "2024-10-02T07:10:04.985988Z",
     "start_time": "2024-10-02T07:10:03.881068Z"
    }
   },
   "cell_type": "code",
   "source": "import torch",
   "id": "c25b4bcd00fc6d8e",
   "outputs": [],
   "execution_count": 2
  },
  {
   "metadata": {
    "ExecuteTime": {
     "end_time": "2024-10-02T07:10:04.988655Z",
     "start_time": "2024-10-02T07:10:04.986930Z"
    }
   },
   "cell_type": "code",
   "source": [
    "vocab_size = 20\n",
    "context_length = 4\n",
    "output_dim = 32"
   ],
   "id": "82ad76831f574312",
   "outputs": [],
   "execution_count": 3
  },
  {
   "metadata": {
    "ExecuteTime": {
     "end_time": "2024-10-02T07:10:04.996604Z",
     "start_time": "2024-10-02T07:10:04.989399Z"
    }
   },
   "cell_type": "code",
   "source": [
    "token_embedding_layer = torch.nn.Embedding(vocab_size, output_dim)\n",
    "pos_embedding_layer = torch.nn.Embedding(context_length, output_dim)"
   ],
   "id": "f0bbf2b8d8774932",
   "outputs": [],
   "execution_count": 4
  },
  {
   "metadata": {
    "ExecuteTime": {
     "end_time": "2024-10-02T07:11:26.247974Z",
     "start_time": "2024-10-02T07:11:26.242732Z"
    }
   },
   "cell_type": "code",
   "source": [
    "input_ids = torch.tensor([\n",
    "    [3, 15, 2, 3],\n",
    "    [5, 3, 7, 9],\n",
    "])\n",
    "print(f\"{input_ids.shape=}\")  # shape=(batch_size, context_length)"
   ],
   "id": "initial_id",
   "outputs": [
    {
     "name": "stdout",
     "output_type": "stream",
     "text": [
      "input_ids.shape=torch.Size([2, 4])\n"
     ]
    }
   ],
   "execution_count": 5
  },
  {
   "metadata": {
    "ExecuteTime": {
     "end_time": "2024-10-02T07:13:31.934247Z",
     "start_time": "2024-10-02T07:13:31.930916Z"
    }
   },
   "cell_type": "code",
   "source": [
    "pos_embeddings = pos_embedding_layer(torch.arange(context_length))  # absolute position embeddings, shape=(context_length, output_dim)\n",
    "print(f\"{pos_embeddings.shape=}\")"
   ],
   "id": "72aca6cd3019bae8",
   "outputs": [
    {
     "name": "stdout",
     "output_type": "stream",
     "text": [
      "pos_embeddings.shape=torch.Size([4, 32])\n"
     ]
    }
   ],
   "execution_count": 8
  },
  {
   "metadata": {
    "ExecuteTime": {
     "end_time": "2024-10-02T07:14:12.981845Z",
     "start_time": "2024-10-02T07:14:12.979112Z"
    }
   },
   "cell_type": "code",
   "source": [
    "token_embeddings = token_embedding_layer(input_ids)  # shape=(batch_size, context_length, output_dim)\n",
    "print(f\"{token_embeddings.shape=}\")"
   ],
   "id": "3a7428ebc296ba21",
   "outputs": [
    {
     "name": "stdout",
     "output_type": "stream",
     "text": [
      "token_embeddings.shape=torch.Size([2, 4, 32])\n"
     ]
    }
   ],
   "execution_count": 9
  },
  {
   "metadata": {
    "ExecuteTime": {
     "end_time": "2024-10-02T07:14:27.947614Z",
     "start_time": "2024-10-02T07:14:27.944597Z"
    }
   },
   "cell_type": "code",
   "source": [
    "input_embeddings = token_embeddings + pos_embeddings  # shape=(batch_size, context_length, output_dim)\n",
    "print(f\"{input_embeddings.shape=}\")"
   ],
   "id": "9016652fc13f04e6",
   "outputs": [
    {
     "name": "stdout",
     "output_type": "stream",
     "text": [
      "input_embeddings.shape=torch.Size([2, 4, 32])\n"
     ]
    }
   ],
   "execution_count": 10
  },
  {
   "metadata": {},
   "cell_type": "code",
   "outputs": [],
   "execution_count": null,
   "source": "",
   "id": "b5a09a6c45b550b9"
  }
 ],
 "metadata": {
  "kernelspec": {
   "display_name": "Python 3",
   "language": "python",
   "name": "python3"
  },
  "language_info": {
   "codemirror_mode": {
    "name": "ipython",
    "version": 2
   },
   "file_extension": ".py",
   "mimetype": "text/x-python",
   "name": "python",
   "nbconvert_exporter": "python",
   "pygments_lexer": "ipython2",
   "version": "2.7.6"
  }
 },
 "nbformat": 4,
 "nbformat_minor": 5
}
