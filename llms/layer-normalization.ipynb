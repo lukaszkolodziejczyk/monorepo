{
 "cells": [
  {
   "cell_type": "code",
   "id": "initial_id",
   "metadata": {
    "collapsed": true,
    "ExecuteTime": {
     "end_time": "2024-10-17T15:12:39.188019Z",
     "start_time": "2024-10-17T15:12:39.184722Z"
    }
   },
   "source": [
    "import torch\n",
    "import torch.nn as nn"
   ],
   "outputs": [],
   "execution_count": 9
  },
  {
   "metadata": {
    "ExecuteTime": {
     "end_time": "2024-10-17T15:08:22.752430Z",
     "start_time": "2024-10-17T15:08:22.746213Z"
    }
   },
   "cell_type": "code",
   "source": [
    "input_embeddings = torch.tensor([\n",
    "    [0.43, 0.15, 0.89], # Your    -> x_0\n",
    "    [0.55, 0.87, 0.66], # journey -> x_1\n",
    "    [0.57, 0.85, 0.64], # starts  -> x_2\n",
    "    [0.22, 0.58, 0.33], # with    -> x_3\n",
    "    [0.77, 0.25, 0.10], # one     -> x_4\n",
    "    [0.05, 0.80, 0.55], # step    -> x_5\n",
    "])"
   ],
   "id": "72881253d23a42c",
   "outputs": [],
   "execution_count": 2
  },
  {
   "metadata": {
    "ExecuteTime": {
     "end_time": "2024-10-17T15:09:07.401602Z",
     "start_time": "2024-10-17T15:09:07.391331Z"
    }
   },
   "cell_type": "code",
   "source": [
    "# means and variances might be anything\n",
    "# this leads to the vanishing and exploding gradient problem, thus making training difficult\n",
    "mean = input_embeddings.mean(dim=-1, keepdim=True)\n",
    "var = input_embeddings.var(dim=-1, keepdim=True)\n",
    "display(mean)\n",
    "display(var)"
   ],
   "id": "d29cf70d73a68558",
   "outputs": [
    {
     "data": {
      "text/plain": [
       "tensor([[0.4900],\n",
       "        [0.6933],\n",
       "        [0.6867],\n",
       "        [0.3767],\n",
       "        [0.3733],\n",
       "        [0.4667]])"
      ]
     },
     "metadata": {},
     "output_type": "display_data"
    },
    {
     "data": {
      "text/plain": [
       "tensor([[0.1396],\n",
       "        [0.0264],\n",
       "        [0.0212],\n",
       "        [0.0340],\n",
       "        [0.1236],\n",
       "        [0.1458]])"
      ]
     },
     "metadata": {},
     "output_type": "display_data"
    }
   ],
   "execution_count": 4
  },
  {
   "metadata": {
    "ExecuteTime": {
     "end_time": "2024-10-17T15:09:51.916875Z",
     "start_time": "2024-10-17T15:09:51.913433Z"
    }
   },
   "cell_type": "code",
   "source": "normalized_embeddings = (input_embeddings - mean) / torch.sqrt(var)",
   "id": "f3a0608aca19bbe3",
   "outputs": [],
   "execution_count": 5
  },
  {
   "metadata": {
    "ExecuteTime": {
     "end_time": "2024-10-17T15:10:01.610348Z",
     "start_time": "2024-10-17T15:10:01.605628Z"
    }
   },
   "cell_type": "code",
   "source": [
    "# one solution is to normalize layers - transform values so that mean is 0 and variance is 1\n",
    "mean = normalized_embeddings.mean(dim=-1, keepdim=True)\n",
    "var = normalized_embeddings.var(dim=-1, keepdim=True)\n",
    "display(mean)\n",
    "display(var)"
   ],
   "id": "7803022b58b74c23",
   "outputs": [
    {
     "data": {
      "text/plain": [
       "tensor([[ 0.0000e+00],\n",
       "        [-2.5332e-07],\n",
       "        [-9.9341e-09],\n",
       "        [ 9.9341e-09],\n",
       "        [-3.9736e-08],\n",
       "        [-6.4572e-08]])"
      ]
     },
     "metadata": {},
     "output_type": "display_data"
    },
    {
     "data": {
      "text/plain": [
       "tensor([[1.0000],\n",
       "        [1.0000],\n",
       "        [1.0000],\n",
       "        [1.0000],\n",
       "        [1.0000],\n",
       "        [1.0000]])"
      ]
     },
     "metadata": {},
     "output_type": "display_data"
    }
   ],
   "execution_count": 7
  },
  {
   "metadata": {
    "ExecuteTime": {
     "end_time": "2024-10-17T15:12:41.017560Z",
     "start_time": "2024-10-17T15:12:41.012761Z"
    }
   },
   "cell_type": "code",
   "source": [
    "class LayerNorm(nn.Module):\n",
    "    def __init__(self, emb_dim: int):\n",
    "        super().__init__()\n",
    "        self.eps = 1e-5\n",
    "        self.scale = nn.Parameter(torch.ones(emb_dim))\n",
    "        self.shift = nn.Parameter(torch.zeros(emb_dim))\n",
    "        \n",
    "    def forward(self, x):\n",
    "        mean = x.mean(dim=-1, keepdim=True)\n",
    "        var = x.var(dim=-1, keepdim=True, unbiased=False)\n",
    "        norm_x = (x - mean) / torch.sqrt(var + self.eps)\n",
    "        return self.scale * norm_x + self.shift"
   ],
   "id": "2c4c386c8614252d",
   "outputs": [],
   "execution_count": 10
  },
  {
   "metadata": {
    "ExecuteTime": {
     "end_time": "2024-10-17T15:13:22.485083Z",
     "start_time": "2024-10-17T15:13:22.477030Z"
    }
   },
   "cell_type": "code",
   "source": [
    "ln = LayerNorm(emb_dim=input_embeddings.shape[-1])\n",
    "out_ln = ln(input_embeddings)\n",
    "mean = out_ln.mean(dim=-1, keepdim=True)\n",
    "var = out_ln.var(dim=-1, unbiased=False, keepdim=True)\n",
    "display(mean)\n",
    "display(var)"
   ],
   "id": "63d006fa3df8de5b",
   "outputs": [
    {
     "data": {
      "text/plain": [
       "tensor([[-3.9736e-08],\n",
       "        [-3.1789e-07],\n",
       "        [ 0.0000e+00],\n",
       "        [ 9.9341e-09],\n",
       "        [-1.9868e-08],\n",
       "        [-3.9736e-08]], grad_fn=<MeanBackward1>)"
      ]
     },
     "metadata": {},
     "output_type": "display_data"
    },
    {
     "data": {
      "text/plain": [
       "tensor([[0.9999],\n",
       "        [0.9994],\n",
       "        [0.9993],\n",
       "        [0.9996],\n",
       "        [0.9999],\n",
       "        [0.9999]], grad_fn=<VarBackward0>)"
      ]
     },
     "metadata": {},
     "output_type": "display_data"
    }
   ],
   "execution_count": 12
  },
  {
   "metadata": {},
   "cell_type": "code",
   "outputs": [],
   "execution_count": null,
   "source": "",
   "id": "28f9b7fd87187d94"
  }
 ],
 "metadata": {
  "kernelspec": {
   "display_name": "Python 3",
   "language": "python",
   "name": "python3"
  },
  "language_info": {
   "codemirror_mode": {
    "name": "ipython",
    "version": 2
   },
   "file_extension": ".py",
   "mimetype": "text/x-python",
   "name": "python",
   "nbconvert_exporter": "python",
   "pygments_lexer": "ipython2",
   "version": "2.7.6"
  }
 },
 "nbformat": 4,
 "nbformat_minor": 5
}
