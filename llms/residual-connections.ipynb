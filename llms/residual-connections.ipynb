{
 "cells": [
  {
   "cell_type": "code",
   "id": "initial_id",
   "metadata": {
    "collapsed": true,
    "ExecuteTime": {
     "end_time": "2024-10-19T15:53:38.443020Z",
     "start_time": "2024-10-19T15:53:37.772280Z"
    }
   },
   "source": [
    "import torch\n",
    "import torch.nn as nn"
   ],
   "outputs": [],
   "execution_count": 1
  },
  {
   "metadata": {
    "ExecuteTime": {
     "end_time": "2024-10-19T15:53:39.141668Z",
     "start_time": "2024-10-19T15:53:39.136752Z"
    }
   },
   "cell_type": "code",
   "source": [
    "class DeepNN(nn.Module):\n",
    "    def __init__(self, layer_sizes: list[int], use_shortcut: bool):\n",
    "        super().__init__()\n",
    "        self.use_shortcut = use_shortcut\n",
    "        self.layers = nn.ModuleList([\n",
    "            nn.Sequential(\n",
    "                nn.Linear(layer_sizes[i], layer_sizes[i+1]),\n",
    "                nn.GELU()\n",
    "            ) for i in range(len(layer_sizes) - 1)\n",
    "        ])\n",
    "    \n",
    "    def forward(self, x):\n",
    "        for layer in self.layers:\n",
    "            x = x + layer(x) if self.use_shortcut else layer(x)\n",
    "        return x"
   ],
   "id": "6d3790ef5cb33f01",
   "outputs": [],
   "execution_count": 2
  },
  {
   "metadata": {
    "ExecuteTime": {
     "end_time": "2024-10-19T15:53:41.642381Z",
     "start_time": "2024-10-19T15:53:41.634925Z"
    }
   },
   "cell_type": "code",
   "source": [
    "layer_sizes = [3, 3, 3, 3, 3, 1]\n",
    "sample_input = torch.tensor([[1., 0., -1.]])\n",
    "torch.manual_seed(123)\n",
    "model_without_res = DeepNN(layer_sizes, use_shortcut=False)\n",
    "model_with_res = DeepNN(layer_sizes, use_shortcut=True)"
   ],
   "id": "1a7d7a380f428b1a",
   "outputs": [],
   "execution_count": 3
  },
  {
   "metadata": {
    "ExecuteTime": {
     "end_time": "2024-10-19T15:53:42.517607Z",
     "start_time": "2024-10-19T15:53:42.513398Z"
    }
   },
   "cell_type": "code",
   "source": [
    "def print_gradients(model, x):\n",
    "    output = model(x)\n",
    "    target = torch.tensor([[0.]])  # dummy target\n",
    "    loss = nn.MSELoss()\n",
    "    loss = loss(output, target)\n",
    "    loss.backward()\n",
    "    \n",
    "    for name, param in model.named_parameters():\n",
    "        if 'weight' in name:\n",
    "            print(f\"{name} has gradient mean of {param.grad.abs().mean().item()}\")"
   ],
   "id": "5a22e6bfd8842916",
   "outputs": [],
   "execution_count": 4
  },
  {
   "metadata": {
    "ExecuteTime": {
     "end_time": "2024-10-19T15:53:43.608283Z",
     "start_time": "2024-10-19T15:53:43.588694Z"
    }
   },
   "cell_type": "code",
   "source": [
    "print_gradients(model_without_res, sample_input)\n",
    "# deep neural nets suffer from vanishing gradients as can be seen below"
   ],
   "id": "1445901a9d504ab9",
   "outputs": [
    {
     "name": "stdout",
     "output_type": "stream",
     "text": [
      "layers.0.0.weight has gradient mean of 0.00020174124801997095\n",
      "layers.1.0.weight has gradient mean of 0.00012011772923870012\n",
      "layers.2.0.weight has gradient mean of 0.0007152438047342002\n",
      "layers.3.0.weight has gradient mean of 0.0013988513965159655\n",
      "layers.4.0.weight has gradient mean of 0.005049603525549173\n"
     ]
    }
   ],
   "execution_count": 5
  },
  {
   "metadata": {
    "ExecuteTime": {
     "end_time": "2024-10-19T15:53:44.434383Z",
     "start_time": "2024-10-19T15:53:44.427703Z"
    }
   },
   "cell_type": "code",
   "source": [
    "print_gradients(model_with_res, sample_input)\n",
    "# adding residual connections helps to mitigate vanishing gradients"
   ],
   "id": "2aae437ea7b728dc",
   "outputs": [
    {
     "name": "stdout",
     "output_type": "stream",
     "text": [
      "layers.0.0.weight has gradient mean of 0.6178960800170898\n",
      "layers.1.0.weight has gradient mean of 0.15985536575317383\n",
      "layers.2.0.weight has gradient mean of 0.3972354233264923\n",
      "layers.3.0.weight has gradient mean of 0.44717708230018616\n",
      "layers.4.0.weight has gradient mean of 1.3972887992858887\n"
     ]
    },
    {
     "name": "stderr",
     "output_type": "stream",
     "text": [
      "/Users/lukaszkolodziejczyk/miniconda3/envs/monorepo/lib/python3.10/site-packages/torch/nn/modules/loss.py:538: UserWarning: Using a target size (torch.Size([1, 1])) that is different to the input size (torch.Size([1, 3])). This will likely lead to incorrect results due to broadcasting. Please ensure they have the same size.\n",
      "  return F.mse_loss(input, target, reduction=self.reduction)\n"
     ]
    }
   ],
   "execution_count": 6
  },
  {
   "metadata": {},
   "cell_type": "code",
   "outputs": [],
   "execution_count": null,
   "source": "",
   "id": "9cd10404134815f6"
  }
 ],
 "metadata": {
  "kernelspec": {
   "display_name": "Python 3",
   "language": "python",
   "name": "python3"
  },
  "language_info": {
   "codemirror_mode": {
    "name": "ipython",
    "version": 2
   },
   "file_extension": ".py",
   "mimetype": "text/x-python",
   "name": "python",
   "nbconvert_exporter": "python",
   "pygments_lexer": "ipython2",
   "version": "2.7.6"
  }
 },
 "nbformat": 4,
 "nbformat_minor": 5
}
