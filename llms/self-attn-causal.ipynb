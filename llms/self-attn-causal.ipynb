{
 "cells": [
  {
   "cell_type": "code",
   "id": "initial_id",
   "metadata": {
    "collapsed": true,
    "ExecuteTime": {
     "end_time": "2024-10-16T07:33:37.513421Z",
     "start_time": "2024-10-16T07:33:37.510650Z"
    }
   },
   "source": [
    "import torch\n",
    "import torch.nn as nn"
   ],
   "outputs": [],
   "execution_count": 15
  },
  {
   "metadata": {
    "ExecuteTime": {
     "end_time": "2024-10-16T07:01:12.472319Z",
     "start_time": "2024-10-16T07:01:12.470041Z"
    }
   },
   "cell_type": "code",
   "source": [
    "input_embeddings = torch.tensor([\n",
    "    [0.43, 0.15, 0.89], # Your    -> x_0\n",
    "    [0.55, 0.87, 0.66], # journey -> x_1\n",
    "    [0.57, 0.85, 0.64], # starts  -> x_2\n",
    "    [0.22, 0.58, 0.33], # with    -> x_3\n",
    "    [0.77, 0.25, 0.10], # one     -> x_4\n",
    "    [0.05, 0.80, 0.55], # step    -> x_5\n",
    "])"
   ],
   "id": "b62db7c3a68c0cda",
   "outputs": [],
   "execution_count": 3
  },
  {
   "metadata": {},
   "cell_type": "markdown",
   "source": "## define the parameters, project the inputs",
   "id": "f3cc8a26407230e7"
  },
  {
   "metadata": {
    "ExecuteTime": {
     "end_time": "2024-10-16T07:01:12.475494Z",
     "start_time": "2024-10-16T07:01:12.473010Z"
    }
   },
   "cell_type": "code",
   "source": [
    "d_in = input_embeddings.shape[1]\n",
    "d_out = 2\n",
    "W_query = torch.nn.Parameter(torch.randn(d_in, d_out), requires_grad=False)\n",
    "W_key = torch.nn.Parameter(torch.randn(d_in, d_out), requires_grad=False)\n",
    "W_value = torch.nn.Parameter(torch.randn(d_in, d_out), requires_grad=False)"
   ],
   "id": "c19b7cf53dbfe9ff",
   "outputs": [],
   "execution_count": 4
  },
  {
   "metadata": {
    "ExecuteTime": {
     "end_time": "2024-10-16T07:23:05.971472Z",
     "start_time": "2024-10-16T07:23:05.967627Z"
    }
   },
   "cell_type": "code",
   "source": [
    "queries = input_embeddings @ W_query\n",
    "keys = input_embeddings @ W_key\n",
    "values = input_embeddings @ W_value"
   ],
   "id": "3f6763fb60df3ee",
   "outputs": [],
   "execution_count": 6
  },
  {
   "metadata": {},
   "cell_type": "markdown",
   "source": "## calculate attention scores",
   "id": "65e93486b270f9b7"
  },
  {
   "metadata": {
    "ExecuteTime": {
     "end_time": "2024-10-16T07:23:19.108749Z",
     "start_time": "2024-10-16T07:23:19.104473Z"
    }
   },
   "cell_type": "code",
   "source": [
    "attn_scores = queries @ keys.T\n",
    "display(attn_scores.shape)\n",
    "display(attn_scores)"
   ],
   "id": "9877ae626f7a38c5",
   "outputs": [
    {
     "data": {
      "text/plain": [
       "torch.Size([6, 6])"
      ]
     },
     "metadata": {},
     "output_type": "display_data"
    },
    {
     "data": {
      "text/plain": [
       "tensor([[-0.5173, -0.2734, -0.2802, -0.0701, -0.3233, -0.0188],\n",
       "        [ 0.8422,  0.3349,  0.3169,  0.1276, -0.0961,  0.3178],\n",
       "        [ 0.7687,  0.3026,  0.2854,  0.1168, -0.1047,  0.2979],\n",
       "        [ 0.8220,  0.3462,  0.3338,  0.1221,  0.0158,  0.2596],\n",
       "        [-0.7745, -0.3645, -0.3628, -0.1104, -0.2306, -0.1451],\n",
       "        [ 1.5474,  0.6628,  0.6423,  0.2286,  0.0922,  0.4599]])"
      ]
     },
     "metadata": {},
     "output_type": "display_data"
    }
   ],
   "execution_count": 8
  },
  {
   "metadata": {},
   "cell_type": "markdown",
   "source": "## mask attention scores, weigths and context vetors",
   "id": "d67fd58d62eb8deb"
  },
  {
   "metadata": {
    "ExecuteTime": {
     "end_time": "2024-10-16T07:23:54.075754Z",
     "start_time": "2024-10-16T07:23:54.071268Z"
    }
   },
   "cell_type": "code",
   "source": [
    "context_length = attn_scores.shape[0]\n",
    "mask = torch.triu(torch.ones(context_length, context_length), diagonal=1)\n",
    "display(mask)"
   ],
   "id": "6b7df617a61041e5",
   "outputs": [
    {
     "data": {
      "text/plain": [
       "tensor([[0., 1., 1., 1., 1., 1.],\n",
       "        [0., 0., 1., 1., 1., 1.],\n",
       "        [0., 0., 0., 1., 1., 1.],\n",
       "        [0., 0., 0., 0., 1., 1.],\n",
       "        [0., 0., 0., 0., 0., 1.],\n",
       "        [0., 0., 0., 0., 0., 0.]])"
      ]
     },
     "metadata": {},
     "output_type": "display_data"
    }
   ],
   "execution_count": 9
  },
  {
   "metadata": {
    "ExecuteTime": {
     "end_time": "2024-10-16T07:24:00.506619Z",
     "start_time": "2024-10-16T07:24:00.501132Z"
    }
   },
   "cell_type": "code",
   "source": [
    "masked_attn_scores = attn_scores.masked_fill(mask.bool(), -torch.inf)\n",
    "display(masked_attn_scores)"
   ],
   "id": "18811f3441790930",
   "outputs": [
    {
     "data": {
      "text/plain": [
       "tensor([[-0.5173,    -inf,    -inf,    -inf,    -inf,    -inf],\n",
       "        [ 0.8422,  0.3349,    -inf,    -inf,    -inf,    -inf],\n",
       "        [ 0.7687,  0.3026,  0.2854,    -inf,    -inf,    -inf],\n",
       "        [ 0.8220,  0.3462,  0.3338,  0.1221,    -inf,    -inf],\n",
       "        [-0.7745, -0.3645, -0.3628, -0.1104, -0.2306,    -inf],\n",
       "        [ 1.5474,  0.6628,  0.6423,  0.2286,  0.0922,  0.4599]])"
      ]
     },
     "metadata": {},
     "output_type": "display_data"
    }
   ],
   "execution_count": 10
  },
  {
   "metadata": {
    "ExecuteTime": {
     "end_time": "2024-10-16T07:26:30.853544Z",
     "start_time": "2024-10-16T07:26:30.849792Z"
    }
   },
   "cell_type": "code",
   "source": [
    "masked_attn_weights = torch.softmax(masked_attn_scores / keys.shape[-1]**0.5, dim=-1)\n",
    "display(masked_attn_weights)"
   ],
   "id": "5f474e2db84e27be",
   "outputs": [
    {
     "data": {
      "text/plain": [
       "tensor([[1.0000, 0.0000, 0.0000, 0.0000, 0.0000, 0.0000],\n",
       "        [0.5887, 0.4113, 0.0000, 0.0000, 0.0000, 0.0000],\n",
       "        [0.4116, 0.2960, 0.2924, 0.0000, 0.0000, 0.0000],\n",
       "        [0.3298, 0.2356, 0.2335, 0.2011, 0.0000, 0.0000],\n",
       "        [0.1483, 0.1982, 0.1984, 0.2372, 0.2179, 0.0000],\n",
       "        [0.3052, 0.1633, 0.1609, 0.1201, 0.1091, 0.1415]])"
      ]
     },
     "metadata": {},
     "output_type": "display_data"
    }
   ],
   "execution_count": 11
  },
  {
   "metadata": {
    "ExecuteTime": {
     "end_time": "2024-10-16T07:27:25.434098Z",
     "start_time": "2024-10-16T07:27:25.430907Z"
    }
   },
   "cell_type": "code",
   "source": [
    "context_vec = masked_attn_weights @ values\n",
    "display(context_vec)"
   ],
   "id": "e72240f3d98221b6",
   "outputs": [
    {
     "data": {
      "text/plain": [
       "tensor([[ 3.5024,  0.3855],\n",
       "        [ 2.7445,  0.1736],\n",
       "        [ 2.4217,  0.0717],\n",
       "        [ 2.0268,  0.0497],\n",
       "        [ 1.5985, -0.1782],\n",
       "        [ 1.8771,  0.0241]])"
      ]
     },
     "metadata": {},
     "output_type": "display_data"
    }
   ],
   "execution_count": 13
  },
  {
   "metadata": {},
   "cell_type": "markdown",
   "source": "## as a single class + dropout + work on batches",
   "id": "93c43e2d50e25650"
  },
  {
   "metadata": {
    "ExecuteTime": {
     "end_time": "2024-10-16T07:33:41.283501Z",
     "start_time": "2024-10-16T07:33:41.279861Z"
    }
   },
   "cell_type": "code",
   "source": [
    "class CausalAttention(nn.Module):\n",
    "    def __init__(self, d_in: int, d_out: int, context_length: int, dropout: float):\n",
    "        super().__init__()\n",
    "        self.d_out = d_out\n",
    "        self.W_query = nn.Linear(d_in, d_out)\n",
    "        self.W_key = nn.Linear(d_in, d_out)\n",
    "        self.W_value = nn.Linear(d_in, d_out)\n",
    "        self.dropout = nn.Dropout(dropout)\n",
    "        self.register_buffer('mask', torch.triu(torch.ones(context_length, context_length), diagonal=1))\n",
    "    \n",
    "    def forward(self, x):\n",
    "        n_batches, num_tokens, d_in = x.shape\n",
    "        keys = self.W_key(x)\n",
    "        queries = self.W_query(x)\n",
    "        values = self.W_value(x)\n",
    "        attn_scores = queries @ keys.transpose(1, 2)\n",
    "        attn_scores.masked_fill_(self.mask.bool()[:num_tokens, :num_tokens], -torch.inf)\n",
    "        attn_weights = torch.softmax(attn_scores / keys.shape[-1]**0.5, dim=-1)\n",
    "        # we additionally add dropout here; this is usual place to do this\n",
    "        attn_weights = self.dropout(attn_weights)\n",
    "        context_vec = attn_weights @ values\n",
    "        return context_vec"
   ],
   "id": "b70f8e27d5edbbc",
   "outputs": [],
   "execution_count": 16
  },
  {
   "metadata": {
    "ExecuteTime": {
     "end_time": "2024-10-16T07:34:40.707498Z",
     "start_time": "2024-10-16T07:34:40.704708Z"
    }
   },
   "cell_type": "code",
   "source": [
    "input_embeddings_batch = torch.stack((input_embeddings, input_embeddings), dim=0)\n",
    "input_embeddings_batch.shape"
   ],
   "id": "d9bf4b9ee8f6b44",
   "outputs": [
    {
     "data": {
      "text/plain": [
       "torch.Size([2, 6, 3])"
      ]
     },
     "execution_count": 18,
     "metadata": {},
     "output_type": "execute_result"
    }
   ],
   "execution_count": 18
  },
  {
   "metadata": {
    "ExecuteTime": {
     "end_time": "2024-10-16T07:35:31.293691Z",
     "start_time": "2024-10-16T07:35:31.287973Z"
    }
   },
   "cell_type": "code",
   "source": [
    "torch.manual_seed(123)\n",
    "context_length = input_embeddings_batch.shape[1]\n",
    "c_attn = CausalAttention(d_in, d_out, context_length, dropout=0.0)\n",
    "context_vecs = c_attn(input_embeddings_batch)\n",
    "display(context_vecs.shape)\n",
    "display(context_vecs)"
   ],
   "id": "84077a1363e828",
   "outputs": [
    {
     "data": {
      "text/plain": [
       "torch.Size([2, 6, 2])"
      ]
     },
     "metadata": {},
     "output_type": "display_data"
    },
    {
     "data": {
      "text/plain": [
       "tensor([[[-0.0960,  0.7940],\n",
       "         [ 0.0285,  0.9387],\n",
       "         [ 0.0657,  0.9850],\n",
       "         [ 0.1062,  0.9604],\n",
       "         [ 0.0659,  0.9308],\n",
       "         [ 0.1188,  0.9375]],\n",
       "\n",
       "        [[-0.0960,  0.7940],\n",
       "         [ 0.0285,  0.9387],\n",
       "         [ 0.0657,  0.9850],\n",
       "         [ 0.1062,  0.9604],\n",
       "         [ 0.0659,  0.9308],\n",
       "         [ 0.1188,  0.9375]]], grad_fn=<UnsafeViewBackward0>)"
      ]
     },
     "metadata": {},
     "output_type": "display_data"
    }
   ],
   "execution_count": 20
  },
  {
   "metadata": {},
   "cell_type": "code",
   "outputs": [],
   "execution_count": null,
   "source": "",
   "id": "c0fab778eef158bb"
  }
 ],
 "metadata": {
  "kernelspec": {
   "display_name": "Python 3",
   "language": "python",
   "name": "python3"
  },
  "language_info": {
   "codemirror_mode": {
    "name": "ipython",
    "version": 2
   },
   "file_extension": ".py",
   "mimetype": "text/x-python",
   "name": "python",
   "nbconvert_exporter": "python",
   "pygments_lexer": "ipython2",
   "version": "2.7.6"
  }
 },
 "nbformat": 4,
 "nbformat_minor": 5
}
