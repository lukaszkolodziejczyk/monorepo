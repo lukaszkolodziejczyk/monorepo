{
 "cells": [
  {
   "cell_type": "code",
   "id": "initial_id",
   "metadata": {
    "collapsed": true,
    "ExecuteTime": {
     "end_time": "2024-10-17T07:41:14.057008Z",
     "start_time": "2024-10-17T07:41:10.448535Z"
    }
   },
   "source": [
    "import torch\n",
    "import torch.nn as nn"
   ],
   "outputs": [],
   "execution_count": 2
  },
  {
   "metadata": {
    "ExecuteTime": {
     "end_time": "2024-10-17T07:41:14.068679Z",
     "start_time": "2024-10-17T07:41:14.060856Z"
    }
   },
   "cell_type": "code",
   "source": [
    "input_embeddings = torch.tensor([\n",
    "    [0.43, 0.15, 0.89], # Your    -> x_0\n",
    "    [0.55, 0.87, 0.66], # journey -> x_1\n",
    "    [0.57, 0.85, 0.64], # starts  -> x_2\n",
    "    [0.22, 0.58, 0.33], # with    -> x_3\n",
    "    [0.77, 0.25, 0.10], # one     -> x_4\n",
    "    [0.05, 0.80, 0.55], # step    -> x_5\n",
    "])\n",
    "input_embeddings = torch.stack([input_embeddings, input_embeddings])\n",
    "input_embeddings.shape"
   ],
   "id": "61f171bbe317d09b",
   "outputs": [
    {
     "data": {
      "text/plain": [
       "torch.Size([2, 6, 3])"
      ]
     },
     "execution_count": 3,
     "metadata": {},
     "output_type": "execute_result"
    }
   ],
   "execution_count": 3
  },
  {
   "metadata": {},
   "cell_type": "markdown",
   "source": "## simple, inefficient approach => stack multiple causal self-attention layers",
   "id": "1b465a8f39ab23c7"
  },
  {
   "metadata": {
    "ExecuteTime": {
     "end_time": "2024-10-17T07:41:14.072980Z",
     "start_time": "2024-10-17T07:41:14.069396Z"
    }
   },
   "cell_type": "code",
   "source": [
    "class CausalAttention(nn.Module):\n",
    "    def __init__(self, d_in: int, d_out: int, context_length: int, dropout: float):\n",
    "        super().__init__()\n",
    "        self.d_out = d_out\n",
    "        self.W_query = nn.Linear(d_in, d_out)\n",
    "        self.W_key = nn.Linear(d_in, d_out)\n",
    "        self.W_value = nn.Linear(d_in, d_out)\n",
    "        self.dropout = nn.Dropout(dropout)\n",
    "        self.register_buffer('mask', torch.triu(torch.ones(context_length, context_length), diagonal=1))\n",
    "    \n",
    "    def forward(self, x):\n",
    "        batch_size, num_tokens, d_in = x.shape\n",
    "        keys = self.W_key(x)\n",
    "        queries = self.W_query(x)\n",
    "        values = self.W_value(x)\n",
    "        attn_scores = queries @ keys.transpose(1, 2)\n",
    "        attn_scores.masked_fill_(self.mask.bool()[:num_tokens, :num_tokens], -torch.inf)\n",
    "        attn_weights = torch.softmax(attn_scores / keys.shape[-1]**0.5, dim=-1)\n",
    "        attn_weights = self.dropout(attn_weights)\n",
    "        context_vec = attn_weights @ values\n",
    "        return context_vec"
   ],
   "id": "da487660b95c83a3",
   "outputs": [],
   "execution_count": 4
  },
  {
   "metadata": {
    "ExecuteTime": {
     "end_time": "2024-10-17T07:41:14.076454Z",
     "start_time": "2024-10-17T07:41:14.074189Z"
    }
   },
   "cell_type": "code",
   "source": [
    "class SimpleMultiHeadAttention(nn.Module):\n",
    "    def __init__(self, d_in: int, d_out: int, context_length: int, dropout: float, num_heads: int):\n",
    "        super().__init__()\n",
    "        self.heads = nn.ModuleList([\n",
    "            CausalAttention(d_in, d_out, context_length, dropout) for _ in range(num_heads)\n",
    "        ])\n",
    "    \n",
    "    def forward(self, x):\n",
    "        return torch.cat([head(x) for head in self.heads], dim=-1)"
   ],
   "id": "68d81f9cef31c526",
   "outputs": [],
   "execution_count": 5
  },
  {
   "metadata": {
    "ExecuteTime": {
     "end_time": "2024-10-17T07:41:14.088998Z",
     "start_time": "2024-10-17T07:41:14.077210Z"
    }
   },
   "cell_type": "code",
   "source": [
    "torch.manual_seed(123)\n",
    "context_length = input_embeddings.shape[1] # This is the number of tokens\n",
    "d_in, d_out = 3, 2\n",
    "mh_attn = SimpleMultiHeadAttention(d_in, d_out, context_length, 0.0, num_heads=2)\n",
    "context_vecs = mh_attn(input_embeddings)\n",
    "display(context_vecs.shape)  # the last dimension is d_out * num_heads, i.e. the head outputs are concatenated\n",
    "display(context_vecs)"
   ],
   "id": "12557b493d6b094",
   "outputs": [
    {
     "data": {
      "text/plain": [
       "torch.Size([2, 6, 4])"
      ]
     },
     "metadata": {},
     "output_type": "display_data"
    },
    {
     "data": {
      "text/plain": [
       "tensor([[[-0.0960,  0.7940, -0.2296,  0.3355],\n",
       "         [ 0.0285,  0.9387, -0.3357,  0.3490],\n",
       "         [ 0.0657,  0.9850, -0.3718,  0.3576],\n",
       "         [ 0.1062,  0.9604, -0.3583,  0.3177],\n",
       "         [ 0.0659,  0.9308, -0.3349,  0.3549],\n",
       "         [ 0.1188,  0.9375, -0.3443,  0.3120]],\n",
       "\n",
       "        [[-0.0960,  0.7940, -0.2296,  0.3355],\n",
       "         [ 0.0285,  0.9387, -0.3357,  0.3490],\n",
       "         [ 0.0657,  0.9850, -0.3718,  0.3576],\n",
       "         [ 0.1062,  0.9604, -0.3583,  0.3177],\n",
       "         [ 0.0659,  0.9308, -0.3349,  0.3549],\n",
       "         [ 0.1188,  0.9375, -0.3443,  0.3120]]], grad_fn=<CatBackward0>)"
      ]
     },
     "metadata": {},
     "output_type": "display_data"
    }
   ],
   "execution_count": 6
  },
  {
   "metadata": {},
   "cell_type": "markdown",
   "source": "## efficient appraoch => multi-head causal self-attention as one class",
   "id": "c6b6d1abc749be2d"
  },
  {
   "metadata": {
    "ExecuteTime": {
     "end_time": "2024-10-17T07:41:15.861148Z",
     "start_time": "2024-10-17T07:41:15.856002Z"
    }
   },
   "cell_type": "code",
   "source": [
    "class MultiHeadAttention(nn.Module):\n",
    "    def __init__(self, d_in: int, d_out: int, context_length: int, dropout: float, num_heads: int):\n",
    "        super().__init__()\n",
    "        assert (d_out % num_heads == 0), \"d_out must be divisible by num_heads\"\n",
    "        self.d_out = d_out\n",
    "        self.num_heads = num_heads\n",
    "        self.head_dim = d_out // num_heads\n",
    "        self.W_query = nn.Linear(d_in, d_out)\n",
    "        self.W_key = nn.Linear(d_in, d_out)\n",
    "        self.W_value = nn.Linear(d_in, d_out)\n",
    "        self.out_proj = nn.Linear(d_out, d_out)\n",
    "        self.dropout = nn.Dropout(dropout)\n",
    "        self.register_buffer(\"mask\", torch.triu(torch.ones(context_length, context_length), diagonal=1))\n",
    "        \n",
    "    \n",
    "    def forward(self, x):\n",
    "        batch_size, num_tokens, d_in = x.shape\n",
    "        # do linear transformation for all heads at once\n",
    "        keys = self.W_key(x)\n",
    "        queries = self.W_query(x)\n",
    "        values = self.W_value(x)\n",
    "        # reshape the outputs to isolate the heads\n",
    "        keys = keys.view(batch_size, num_tokens, self.num_heads, self.head_dim)\n",
    "        values = values.view(batch_size, num_tokens, self.num_heads, self.head_dim)\n",
    "        queries = queries.view(batch_size, num_tokens, self.num_heads, self.head_dim)\n",
    "        keys = keys.transpose(1, 2)\n",
    "        queries = queries.transpose(1, 2)\n",
    "        values = values.transpose(1, 2)\n",
    "        # calculate attention scores & weights\n",
    "        attn_scores = queries @ keys.transpose(2, 3)\n",
    "        mask_bool = self.mask.bool()[:num_tokens, :num_tokens]\n",
    "        attn_scores.masked_fill_(mask_bool, -torch.inf)\n",
    "        attn_weights = torch.softmax(attn_scores / keys.shape[-1]**0.5, dim=-1)\n",
    "        attn_weights = self.dropout(attn_weights)\n",
    "        # calculate context vectors\n",
    "        context_vec = (attn_weights @ values).transpose(1, 2)\n",
    "        context_vec = context_vec.contiguous().view(batch_size, num_tokens, self.d_out)\n",
    "        context_vec = self.out_proj(context_vec)\n",
    "        return context_vec"
   ],
   "id": "5ae928b42c16825c",
   "outputs": [],
   "execution_count": 7
  },
  {
   "metadata": {
    "ExecuteTime": {
     "end_time": "2024-10-17T07:41:50.522193Z",
     "start_time": "2024-10-17T07:41:50.513105Z"
    }
   },
   "cell_type": "code",
   "source": [
    "torch.manual_seed(123)\n",
    "batch_size, context_length, d_in = input_embeddings.shape\n",
    "d_out = 2\n",
    "mha = MultiHeadAttention(d_in, d_out, context_length, 0.0, num_heads=2)\n",
    "context_vecs = mha(input_embeddings)\n",
    "display(context_vecs.shape)\n",
    "display(context_vecs)"
   ],
   "id": "107529c1e149768",
   "outputs": [
    {
     "data": {
      "text/plain": [
       "torch.Size([2, 6, 2])"
      ]
     },
     "metadata": {},
     "output_type": "display_data"
    },
    {
     "data": {
      "text/plain": [
       "tensor([[[ 0.7732, -0.2205],\n",
       "         [ 0.7706, -0.1791],\n",
       "         [ 0.7684, -0.1686],\n",
       "         [ 0.7485, -0.1963],\n",
       "         [ 0.7558, -0.1972],\n",
       "         [ 0.7427, -0.2082]],\n",
       "\n",
       "        [[ 0.7732, -0.2205],\n",
       "         [ 0.7706, -0.1791],\n",
       "         [ 0.7684, -0.1686],\n",
       "         [ 0.7485, -0.1963],\n",
       "         [ 0.7558, -0.1972],\n",
       "         [ 0.7427, -0.2082]]], grad_fn=<ViewBackward0>)"
      ]
     },
     "metadata": {},
     "output_type": "display_data"
    }
   ],
   "execution_count": 9
  },
  {
   "metadata": {},
   "cell_type": "code",
   "outputs": [],
   "execution_count": null,
   "source": "",
   "id": "8a46717a1295bb5f"
  }
 ],
 "metadata": {
  "kernelspec": {
   "display_name": "Python 3",
   "language": "python",
   "name": "python3"
  },
  "language_info": {
   "codemirror_mode": {
    "name": "ipython",
    "version": 2
   },
   "file_extension": ".py",
   "mimetype": "text/x-python",
   "name": "python",
   "nbconvert_exporter": "python",
   "pygments_lexer": "ipython2",
   "version": "2.7.6"
  }
 },
 "nbformat": 4,
 "nbformat_minor": 5
}
