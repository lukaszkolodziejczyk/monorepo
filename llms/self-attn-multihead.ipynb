{
 "cells": [
  {
   "cell_type": "code",
   "id": "initial_id",
   "metadata": {
    "collapsed": true,
    "ExecuteTime": {
     "end_time": "2024-10-16T13:24:48.363045Z",
     "start_time": "2024-10-16T13:24:47.347384Z"
    }
   },
   "source": [
    "import torch\n",
    "import torch.nn as nn"
   ],
   "outputs": [],
   "execution_count": 1
  },
  {
   "metadata": {
    "ExecuteTime": {
     "end_time": "2024-10-16T13:28:40.432623Z",
     "start_time": "2024-10-16T13:28:40.426599Z"
    }
   },
   "cell_type": "code",
   "source": [
    "input_embeddings = torch.tensor([\n",
    "    [0.43, 0.15, 0.89], # Your    -> x_0\n",
    "    [0.55, 0.87, 0.66], # journey -> x_1\n",
    "    [0.57, 0.85, 0.64], # starts  -> x_2\n",
    "    [0.22, 0.58, 0.33], # with    -> x_3\n",
    "    [0.77, 0.25, 0.10], # one     -> x_4\n",
    "    [0.05, 0.80, 0.55], # step    -> x_5\n",
    "])\n",
    "input_embeddings = torch.stack([input_embeddings, input_embeddings])\n",
    "input_embeddings.shape"
   ],
   "id": "61f171bbe317d09b",
   "outputs": [
    {
     "data": {
      "text/plain": [
       "torch.Size([2, 6, 3])"
      ]
     },
     "execution_count": 6,
     "metadata": {},
     "output_type": "execute_result"
    }
   ],
   "execution_count": 6
  },
  {
   "metadata": {},
   "cell_type": "markdown",
   "source": "## simple, inefficient approach => stack multiple causal self-attention layers",
   "id": "1b465a8f39ab23c7"
  },
  {
   "metadata": {
    "ExecuteTime": {
     "end_time": "2024-10-16T13:25:46.466994Z",
     "start_time": "2024-10-16T13:25:46.461048Z"
    }
   },
   "cell_type": "code",
   "source": [
    "class CausalAttention(nn.Module):\n",
    "    def __init__(self, d_in: int, d_out: int, context_length: int, dropout: float):\n",
    "        super().__init__()\n",
    "        self.d_out = d_out\n",
    "        self.W_query = nn.Linear(d_in, d_out)\n",
    "        self.W_key = nn.Linear(d_in, d_out)\n",
    "        self.W_value = nn.Linear(d_in, d_out)\n",
    "        self.dropout = nn.Dropout(dropout)\n",
    "        self.register_buffer('mask', torch.triu(torch.ones(context_length, context_length), diagonal=1))\n",
    "    \n",
    "    def forward(self, x):\n",
    "        n_batches, num_tokens, d_in = x.shape\n",
    "        keys = self.W_key(x)\n",
    "        queries = self.W_query(x)\n",
    "        values = self.W_value(x)\n",
    "        attn_scores = queries @ keys.transpose(1, 2)\n",
    "        attn_scores.masked_fill_(self.mask.bool()[:num_tokens, :num_tokens], -torch.inf)\n",
    "        attn_weights = torch.softmax(attn_scores / keys.shape[-1]**0.5, dim=-1)\n",
    "        attn_weights = self.dropout(attn_weights)\n",
    "        context_vec = attn_weights @ values\n",
    "        return context_vec"
   ],
   "id": "da487660b95c83a3",
   "outputs": [],
   "execution_count": 3
  },
  {
   "metadata": {
    "ExecuteTime": {
     "end_time": "2024-10-16T13:28:03.549866Z",
     "start_time": "2024-10-16T13:28:03.545203Z"
    }
   },
   "cell_type": "code",
   "source": [
    "class SimpleMultiHeadAttention(nn.Module):\n",
    "    def __init__(self, d_in: int, d_out: int, context_length: int, dropout: float, num_heads: int):\n",
    "        super().__init__()\n",
    "        self.heads = nn.ModuleList([\n",
    "            CausalAttention(d_in, d_out, context_length, dropout) for _ in range(num_heads)\n",
    "        ])\n",
    "    \n",
    "    def forward(self, x):\n",
    "        return torch.cat([head(x) for head in self.heads], dim=-1)"
   ],
   "id": "68d81f9cef31c526",
   "outputs": [],
   "execution_count": 5
  },
  {
   "metadata": {
    "ExecuteTime": {
     "end_time": "2024-10-16T13:30:35.042182Z",
     "start_time": "2024-10-16T13:30:35.032449Z"
    }
   },
   "cell_type": "code",
   "source": [
    "torch.manual_seed(123)\n",
    "context_length = input_embeddings.shape[1] # This is the number of tokens\n",
    "d_in, d_out = 3, 2\n",
    "mh_attn = SimpleMultiHeadAttention(d_in, d_out, context_length, 0.0, num_heads=2)\n",
    "context_vecs = mh_attn(input_embeddings)\n",
    "display(context_vecs.shape)  # the last dimension is d_out * num_heads, i.e. the head outputs are concatenated\n",
    "display(context_vecs)"
   ],
   "id": "12557b493d6b094",
   "outputs": [
    {
     "data": {
      "text/plain": [
       "torch.Size([2, 6, 4])"
      ]
     },
     "metadata": {},
     "output_type": "display_data"
    },
    {
     "data": {
      "text/plain": [
       "tensor([[[-0.0960,  0.7940, -0.2296,  0.3355],\n",
       "         [ 0.0285,  0.9387, -0.3357,  0.3490],\n",
       "         [ 0.0657,  0.9850, -0.3718,  0.3576],\n",
       "         [ 0.1062,  0.9604, -0.3583,  0.3177],\n",
       "         [ 0.0659,  0.9308, -0.3349,  0.3549],\n",
       "         [ 0.1188,  0.9375, -0.3443,  0.3120]],\n",
       "\n",
       "        [[-0.0960,  0.7940, -0.2296,  0.3355],\n",
       "         [ 0.0285,  0.9387, -0.3357,  0.3490],\n",
       "         [ 0.0657,  0.9850, -0.3718,  0.3576],\n",
       "         [ 0.1062,  0.9604, -0.3583,  0.3177],\n",
       "         [ 0.0659,  0.9308, -0.3349,  0.3549],\n",
       "         [ 0.1188,  0.9375, -0.3443,  0.3120]]], grad_fn=<CatBackward0>)"
      ]
     },
     "metadata": {},
     "output_type": "display_data"
    }
   ],
   "execution_count": 11
  },
  {
   "metadata": {},
   "cell_type": "code",
   "outputs": [],
   "execution_count": null,
   "source": "",
   "id": "80bae5d2e92e6a28"
  }
 ],
 "metadata": {
  "kernelspec": {
   "display_name": "Python 3",
   "language": "python",
   "name": "python3"
  },
  "language_info": {
   "codemirror_mode": {
    "name": "ipython",
    "version": 2
   },
   "file_extension": ".py",
   "mimetype": "text/x-python",
   "name": "python",
   "nbconvert_exporter": "python",
   "pygments_lexer": "ipython2",
   "version": "2.7.6"
  }
 },
 "nbformat": 4,
 "nbformat_minor": 5
}
