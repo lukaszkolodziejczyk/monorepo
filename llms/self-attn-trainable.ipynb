{
 "cells": [
  {
   "cell_type": "code",
   "id": "initial_id",
   "metadata": {
    "collapsed": true,
    "ExecuteTime": {
     "end_time": "2024-10-05T20:46:34.212733Z",
     "start_time": "2024-10-05T20:46:33.606250Z"
    }
   },
   "source": "import torch",
   "outputs": [],
   "execution_count": 1
  },
  {
   "metadata": {
    "ExecuteTime": {
     "end_time": "2024-10-05T20:46:37.805714Z",
     "start_time": "2024-10-05T20:46:37.801243Z"
    }
   },
   "cell_type": "code",
   "source": [
    "input_embeddings = torch.tensor([\n",
    "    [0.43, 0.15, 0.89], # Your    -> x_0\n",
    "    [0.55, 0.87, 0.66], # journey -> x_1\n",
    "    [0.57, 0.85, 0.64], # starts  -> x_2\n",
    "    [0.22, 0.58, 0.33], # with    -> x_3\n",
    "    [0.77, 0.25, 0.10], # one     -> x_4\n",
    "    [0.05, 0.80, 0.55], # step    -> x_5\n",
    "])"
   ],
   "id": "27dc334d8a504a6f",
   "outputs": [],
   "execution_count": 2
  },
  {
   "metadata": {},
   "cell_type": "markdown",
   "source": "## define the parameters: W_query, W_key, W_value",
   "id": "9d29bfcc11ee59f6"
  },
  {
   "metadata": {
    "ExecuteTime": {
     "end_time": "2024-10-05T20:53:16.740664Z",
     "start_time": "2024-10-05T20:53:16.735699Z"
    }
   },
   "cell_type": "code",
   "source": [
    "d_in = input_embeddings.shape[1]\n",
    "d_out = 2\n",
    "W_query = torch.nn.Parameter(torch.randn(d_in, d_out), requires_grad=False)\n",
    "W_key = torch.nn.Parameter(torch.randn(d_in, d_out), requires_grad=False)\n",
    "W_value = torch.nn.Parameter(torch.randn(d_in, d_out), requires_grad=False)"
   ],
   "id": "7d2091cef5e18cec",
   "outputs": [],
   "execution_count": 4
  },
  {
   "metadata": {},
   "cell_type": "markdown",
   "source": "## project the input embeddings with W_query, W_key and W_value",
   "id": "8953f9479171b021"
  },
  {
   "metadata": {
    "ExecuteTime": {
     "end_time": "2024-10-05T20:59:28.270014Z",
     "start_time": "2024-10-05T20:59:28.265120Z"
    }
   },
   "cell_type": "code",
   "source": [
    "queries = input_embeddings @ W_query\n",
    "display(queries.shape)\n",
    "display(queries)"
   ],
   "id": "e040db69bcc5bbb6",
   "outputs": [
    {
     "data": {
      "text/plain": [
       "torch.Size([6, 2])"
      ]
     },
     "metadata": {},
     "output_type": "display_data"
    },
    {
     "data": {
      "text/plain": [
       "tensor([[-1.3912,  0.7242],\n",
       "        [-1.0950, -0.1293],\n",
       "        [-1.0720, -0.1688],\n",
       "        [-0.5321, -0.0841],\n",
       "        [-0.3561, -0.8315],\n",
       "        [-0.7993,  0.2957]])"
      ]
     },
     "metadata": {},
     "output_type": "display_data"
    }
   ],
   "execution_count": 13
  },
  {
   "metadata": {
    "ExecuteTime": {
     "end_time": "2024-10-05T20:59:12.704161Z",
     "start_time": "2024-10-05T20:59:12.696913Z"
    }
   },
   "cell_type": "code",
   "source": [
    "keys = input_embeddings @ W_key\n",
    "display(keys.shape)\n",
    "display(keys)"
   ],
   "id": "f07ffc471541e418",
   "outputs": [
    {
     "data": {
      "text/plain": [
       "torch.Size([6, 2])"
      ]
     },
     "metadata": {},
     "output_type": "display_data"
    },
    {
     "data": {
      "text/plain": [
       "tensor([[ 1.7963, -0.3983],\n",
       "        [ 0.4943,  1.1740],\n",
       "        [ 0.4606,  1.1562],\n",
       "        [ 0.1204,  0.8522],\n",
       "        [-0.2745,  0.5091],\n",
       "        [ 0.4742,  1.0558]])"
      ]
     },
     "metadata": {},
     "output_type": "display_data"
    }
   ],
   "execution_count": 12
  },
  {
   "metadata": {
    "ExecuteTime": {
     "end_time": "2024-10-05T20:59:37.453959Z",
     "start_time": "2024-10-05T20:59:37.449390Z"
    }
   },
   "cell_type": "code",
   "source": [
    "values = input_embeddings @ W_value\n",
    "display(values.shape)\n",
    "display(values)"
   ],
   "id": "e2baf84fdd3b1b9a",
   "outputs": [
    {
     "data": {
      "text/plain": [
       "torch.Size([6, 2])"
      ]
     },
     "metadata": {},
     "output_type": "display_data"
    },
    {
     "data": {
      "text/plain": [
       "tensor([[-2.6303,  0.0225],\n",
       "        [-2.5330,  0.5452],\n",
       "        [-2.5124,  0.5169],\n",
       "        [-1.2311,  0.4201],\n",
       "        [-1.4368, -0.1399],\n",
       "        [-1.5307,  0.7086]])"
      ]
     },
     "metadata": {},
     "output_type": "display_data"
    }
   ],
   "execution_count": 14
  },
  {
   "metadata": {},
   "cell_type": "markdown",
   "source": "## calculate single attention score, attention weight and context vector",
   "id": "70eac6e6d8fd4da9"
  },
  {
   "metadata": {
    "ExecuteTime": {
     "end_time": "2024-10-05T21:01:34.862419Z",
     "start_time": "2024-10-05T21:01:34.856133Z"
    }
   },
   "cell_type": "code",
   "source": [
    "# how much the third word should attend to itself\n",
    "query_2 = queries[2]\n",
    "key_2 = keys[2]\n",
    "attn_score_22 = query_2 @ key_2\n",
    "attn_score_22"
   ],
   "id": "2f2627be6506d95e",
   "outputs": [
    {
     "data": {
      "text/plain": [
       "tensor(-0.6889)"
      ]
     },
     "execution_count": 15,
     "metadata": {},
     "output_type": "execute_result"
    }
   ],
   "execution_count": 15
  },
  {
   "metadata": {
    "ExecuteTime": {
     "end_time": "2024-10-05T21:02:09.436057Z",
     "start_time": "2024-10-05T21:02:09.432484Z"
    }
   },
   "cell_type": "code",
   "source": [
    "# how much the third word should attend to all other words\n",
    "attn_scores_2 = query_2 @ keys.T\n",
    "attn_scores_2"
   ],
   "id": "3e18eae4e58843ba",
   "outputs": [
    {
     "data": {
      "text/plain": [
       "tensor([-1.8584, -0.7280, -0.6889, -0.2729,  0.2083, -0.6865])"
      ]
     },
     "execution_count": 16,
     "metadata": {},
     "output_type": "execute_result"
    }
   ],
   "execution_count": 16
  },
  {
   "metadata": {
    "ExecuteTime": {
     "end_time": "2024-10-05T21:03:56.454032Z",
     "start_time": "2024-10-05T21:03:56.448360Z"
    }
   },
   "cell_type": "code",
   "source": [
    "# \"scaled\" from \"scaled dot-product attention\" comes from the square root of the dimension of the key vectors\n",
    "# this is to prevent the dot product from getting too large, which would result in very small gradients\n",
    "d_k = keys.shape[-1]\n",
    "attn_weights_2 = torch.softmax(attn_scores_2 / d_k**0.5, dim=-1)\n",
    "attn_weights_2"
   ],
   "id": "6fd45bb8d7d2048d",
   "outputs": [
    {
     "data": {
      "text/plain": [
       "tensor([0.0659, 0.1465, 0.1506, 0.2021, 0.2840, 0.1509])"
      ]
     },
     "execution_count": 20,
     "metadata": {},
     "output_type": "execute_result"
    }
   ],
   "execution_count": 20
  },
  {
   "metadata": {
    "ExecuteTime": {
     "end_time": "2024-10-05T21:05:18.313083Z",
     "start_time": "2024-10-05T21:05:18.307483Z"
    }
   },
   "cell_type": "code",
   "source": [
    "context_vec_2 = attn_weights_2 @ values\n",
    "context_vec_2"
   ],
   "id": "29e7cf6c9ff852fa",
   "outputs": [
    {
     "data": {
      "text/plain": [
       "tensor([-1.8106,  0.3113])"
      ]
     },
     "execution_count": 22,
     "metadata": {},
     "output_type": "execute_result"
    }
   ],
   "execution_count": 22
  },
  {
   "metadata": {},
   "cell_type": "markdown",
   "source": "## calculate whole context matrix at once ",
   "id": "637e3c3d1bd53ea3"
  },
  {
   "metadata": {
    "ExecuteTime": {
     "end_time": "2024-10-06T09:20:51.541231Z",
     "start_time": "2024-10-06T09:20:51.536279Z"
    }
   },
   "cell_type": "code",
   "source": [
    "class SelfAttn(torch.nn.Module):\n",
    "    def __init__(self, d_in: int, d_out: int):\n",
    "        super().__init__()\n",
    "        # VERSION 1) BASIC IMPLEMENTATION\n",
    "        # self.W_query = torch.nn.Parameter(torch.randn(d_in, d_out), requires_grad=False)\n",
    "        # self.W_key = torch.nn.Parameter(torch.randn(d_in, d_out), requires_grad=False)\n",
    "        # self.W_value = torch.nn.Parameter(torch.randn(d_in, d_out), requires_grad=False)\n",
    "        \n",
    "        # VERSION 2) OPTIMISED IMPLEMENTATION (SMARTER WEIGHTS INITIALIZATION)\n",
    "        self.W_query = torch.nn.Linear(d_in, d_out, bias=False)\n",
    "        self.W_key = torch.nn.Linear(d_in, d_out, bias=False)\n",
    "        self.W_value = torch.nn.Linear(d_in, d_out, bias=False)\n",
    "        \n",
    "    def forward(self, x):\n",
    "        # VERSION 1)\n",
    "        # queries = x @ self.W_query\n",
    "        # keys = x @ self.W_key\n",
    "        # values = x @ self.W_value\n",
    "\n",
    "        # VERSION 2)\n",
    "        queries = self.W_query(x)\n",
    "        keys = self.W_key(x)\n",
    "        values = self.W_value(x)\n",
    "        attn_scores = queries @ keys.T\n",
    "        attn_weights = torch.softmax(attn_scores / keys.shape[-1]**0.5, dim=-1)\n",
    "        context_vecs = attn_weights @ values\n",
    "        return context_vecs"
   ],
   "id": "edea126c7afb98e1",
   "outputs": [],
   "execution_count": 28
  },
  {
   "metadata": {
    "ExecuteTime": {
     "end_time": "2024-10-06T09:20:52.519808Z",
     "start_time": "2024-10-06T09:20:52.516057Z"
    }
   },
   "cell_type": "code",
   "source": [
    "torch.manual_seed(789)\n",
    "attn_layer = SelfAttn(d_in, d_out)\n",
    "attn_layer(input_embeddings)"
   ],
   "id": "460ee585698b7c1d",
   "outputs": [
    {
     "data": {
      "text/plain": [
       "tensor([[-0.0739,  0.0713],\n",
       "        [-0.0748,  0.0703],\n",
       "        [-0.0749,  0.0702],\n",
       "        [-0.0760,  0.0685],\n",
       "        [-0.0763,  0.0679],\n",
       "        [-0.0754,  0.0693]], grad_fn=<MmBackward0>)"
      ]
     },
     "execution_count": 29,
     "metadata": {},
     "output_type": "execute_result"
    }
   ],
   "execution_count": 29
  },
  {
   "metadata": {},
   "cell_type": "code",
   "outputs": [],
   "execution_count": null,
   "source": "",
   "id": "9e80bea1cdcfea2c"
  }
 ],
 "metadata": {
  "kernelspec": {
   "display_name": "Python 3",
   "language": "python",
   "name": "python3"
  },
  "language_info": {
   "codemirror_mode": {
    "name": "ipython",
    "version": 2
   },
   "file_extension": ".py",
   "mimetype": "text/x-python",
   "name": "python",
   "nbconvert_exporter": "python",
   "pygments_lexer": "ipython2",
   "version": "2.7.6"
  }
 },
 "nbformat": 4,
 "nbformat_minor": 5
}
