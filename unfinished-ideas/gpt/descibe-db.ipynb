{
 "cells": [
  {
   "cell_type": "code",
   "execution_count": 1,
   "id": "27160de7-2b75-4f27-8602-8b6744e624c0",
   "metadata": {},
   "outputs": [],
   "source": [
    "import os\n",
    "import openai\n",
    "import sqlite3\n",
    "openai.api_key = os.environ[\"OPENAI_APIKEY\"]"
   ]
  },
  {
   "cell_type": "code",
   "execution_count": 2,
   "id": "f758a596-4828-4530-90ac-830e88afdf7f",
   "metadata": {},
   "outputs": [],
   "source": [
    "def prompt(prompt):\n",
    "    response = openai.Completion.create(\n",
    "        model=\"text-davinci-003\", # \"code-davinci-002\",\n",
    "        prompt=prompt,\n",
    "        temperature=0,\n",
    "        max_tokens=500,\n",
    "        top_p=1.0,\n",
    "        frequency_penalty=0.0,\n",
    "        presence_penalty=0.0\n",
    "    )\n",
    "    return response.choices[0].text"
   ]
  },
  {
   "cell_type": "code",
   "execution_count": 3,
   "id": "ad8e3a38-8ce5-49a6-945e-2d9e1efeaa5d",
   "metadata": {},
   "outputs": [],
   "source": [
    "def in_context_of(uri):\n",
    "    def inner(*, ask_to):\n",
    "        return prompt(f\"\"\"\n",
    "            {read_schema(uri)}\n",
    "\n",
    "            {ask_to}\n",
    "        \"\"\")\n",
    "    return inner"
   ]
  },
  {
   "cell_type": "code",
   "execution_count": 4,
   "id": "5e746e3d-b02d-4c84-a876-2aacfb894a80",
   "metadata": {},
   "outputs": [],
   "source": [
    "# code courtesy of ChatGPT-3\n",
    "\n",
    "def create_example_sqlite_db(path):\n",
    "    # create a connection to the database\n",
    "    conn = sqlite3.connect(path)\n",
    "\n",
    "    # create a cursor object to execute SQL commands\n",
    "    cursor = conn.cursor()\n",
    "\n",
    "    # create the Players table\n",
    "    cursor.execute('''CREATE TABLE Players (\n",
    "                        id INTEGER PRIMARY KEY,\n",
    "                        name TEXT\n",
    "                    )''')\n",
    "\n",
    "    # create the Seasons table with a foreign key constraint on the player_id column\n",
    "    cursor.execute('''CREATE TABLE Seasons (\n",
    "                        id INTEGER PRIMARY KEY,\n",
    "                        year INTEGER,\n",
    "                        player_id INTEGER,\n",
    "                        total_score INTEGER,\n",
    "                        total_fauls INTEGER,\n",
    "                        FOREIGN KEY(player_id) REFERENCES Players(id)\n",
    "                    )''')\n",
    "\n",
    "    # create the Games table with a foreign key constraint on the player_id column\n",
    "    cursor.execute('''CREATE TABLE Games (\n",
    "                        id INTEGER PRIMARY KEY,\n",
    "                        player_id INTEGER,\n",
    "                        fauls INTEGER,\n",
    "                        score INTEGER,\n",
    "                        FOREIGN KEY(player_id) REFERENCES Players(id)\n",
    "                    )''')\n",
    "\n",
    "    # commit the changes to the database\n",
    "    conn.commit()\n",
    "\n",
    "    # close the cursor and the connection\n",
    "    cursor.close()\n",
    "    conn.close()\n",
    "\n",
    "    \n",
    "def read_schema(uri):\n",
    "    # Connect to the database\n",
    "    conn = sqlite3.connect(uri)\n",
    "    cursor = conn.cursor()\n",
    "\n",
    "    # Get a list of all the tables in the database\n",
    "    cursor.execute(\"SELECT name FROM sqlite_master WHERE type='table';\")\n",
    "    tables = cursor.fetchall()\n",
    "\n",
    "    # Loop over each table and get its schema\n",
    "    schema_str = \"\"\n",
    "    for table in tables:\n",
    "        cursor.execute(f\"PRAGMA table_info({table[0]})\")\n",
    "        table_info = cursor.fetchall()\n",
    "\n",
    "        # Add the table name to the schema string\n",
    "        schema_str += f\"\\n\\nTable: {table[0]}\\n\"\n",
    "\n",
    "        # Loop over each column in the table and add it to the schema string\n",
    "        for column in table_info:\n",
    "            col_name = column[1]\n",
    "            col_type = column[2]\n",
    "            is_pk = \" (PK)\" if column[5] == 1 else \"\"\n",
    "            schema_str += f\"{col_name} {col_type}{is_pk}\\n\"\n",
    "\n",
    "        # Get a list of foreign keys for the table\n",
    "        cursor.execute(f\"PRAGMA foreign_key_list({table[0]})\")\n",
    "        foreign_keys = cursor.fetchall()\n",
    "\n",
    "        # Add foreign key information to the schema string\n",
    "        if foreign_keys:\n",
    "            schema_str += \"\\nForeign keys:\\n\"\n",
    "            for key in foreign_keys:\n",
    "                schema_str += f\"{key[3]} REFERENCES {key[2]}({key[4]})\\n\"\n",
    "\n",
    "    # Close the database connection\n",
    "    conn.close()\n",
    "\n",
    "    # Return the schema string\n",
    "    return schema_str"
   ]
  },
  {
   "cell_type": "code",
   "execution_count": 5,
   "id": "0d6c8a72-0546-4e01-a42a-4ec99a5f33f4",
   "metadata": {},
   "outputs": [],
   "source": [
    "create_example_sqlite_db('example.db')"
   ]
  },
  {
   "cell_type": "code",
   "execution_count": 6,
   "id": "4a85fcf3-b3bc-4a05-8b15-b5c222529214",
   "metadata": {},
   "outputs": [
    {
     "name": "stdout",
     "output_type": "stream",
     "text": [
      "\n",
      "This schema is used to store information about players, their seasons, and their individual games. It allows us to track a player's performance over time and compare it to other players.\n",
      "\n",
      "Some interesting insights that can be gleaned from this schema include:\n",
      "\n",
      "- The total score and total fouls for each season for each player.\n",
      "- The average score and average fouls for each season for each player.\n",
      "- The total score and total fouls for each game for each player.\n",
      "- The average score and average fouls for each game for each player.\n",
      "\n",
      "Some interesting SQL queries that can be generated from this schema include:\n",
      "\n",
      "- Find the total score and total fouls for each season for each player:\n",
      "SELECT p.name, s.year, SUM(g.score) AS total_score, SUM(g.fouls) AS total_fouls\n",
      "FROM Players p\n",
      "INNER JOIN Seasons s ON p.id = s.player_id\n",
      "INNER JOIN Games g ON p.id = g.player_id\n",
      "GROUP BY p.name, s.year\n",
      "\n",
      "- Find the average score and average fouls for each season for each player:\n",
      "SELECT p.name, s.year, AVG(g.score) AS avg_score, AVG(g.fouls) AS avg_fouls\n",
      "FROM Players p\n",
      "INNER JOIN Seasons s ON p.id = s.player_id\n",
      "INNER JOIN Games g ON p.id = g.player_id\n",
      "GROUP BY p.name, s.year\n",
      "\n",
      "- Find the total score and total fouls for each game for each player:\n",
      "SELECT p.name, g.id, SUM(g.score) AS total_score, SUM(g.fouls) AS total_fouls\n",
      "FROM Players p\n",
      "INNER JOIN Games g ON p.id = g.player_id\n",
      "GROUP BY p.name, g.id\n",
      "\n",
      "- Find the average score and average fouls for each game for each player:\n",
      "SELECT p.name, g.id, AVG(g.score) AS avg_score, AVG(g.fouls) AS avg_fouls\n",
      "FROM Players p\n",
      "INNER JOIN Games g ON p.id = g.player_id\n",
      "GROUP BY p.name, g.id\n",
      "CPU times: user 33.4 ms, sys: 11.6 ms, total: 45 ms\n",
      "Wall time: 23.7 s\n"
     ]
    }
   ],
   "source": [
    "%%time\n",
    "describe_db = (\"Analyze this schema and tell some interesting insights about \"\n",
    "               \"it as well as generate some interesting SQL queries.\")\n",
    "print(in_context_of('example.db')(ask_to=describe_db))"
   ]
  },
  {
   "cell_type": "code",
   "execution_count": 7,
   "id": "b623f299-151a-425e-bcdd-4da04acb958a",
   "metadata": {},
   "outputs": [
    {
     "name": "stdout",
     "output_type": "stream",
     "text": [
      "\n",
      "CREATE TABLE Players (\n",
      "    id INTEGER PRIMARY KEY,\n",
      "    name TEXT\n",
      ");\n",
      "\n",
      "CREATE TABLE Seasons (\n",
      "    id INTEGER PRIMARY KEY,\n",
      "    year INTEGER,\n",
      "    player_id INTEGER,\n",
      "    total_score INTEGER,\n",
      "    total_fauls INTEGER,\n",
      "    FOREIGN KEY (player_id) REFERENCES Players(id)\n",
      ");\n",
      "\n",
      "CREATE TABLE Games (\n",
      "    id INTEGER PRIMARY KEY,\n",
      "    player_id INTEGER,\n",
      "    fauls INTEGER,\n",
      "    score INTEGER,\n",
      "    FOREIGN KEY (player_id) REFERENCES Players(id)\n",
      ");\n",
      "CPU times: user 8.24 ms, sys: 3.91 ms, total: 12.2 ms\n",
      "Wall time: 7.61 s\n"
     ]
    }
   ],
   "source": [
    "%%time\n",
    "translate_to = lambda vendor: (f\"Translate that schema to code that can be used \"\n",
    "                                     f\"to build schema in {vendor}.\")\n",
    "print(in_context_of('example.db')(ask_to=translate_to(\"mysql\")))"
   ]
  },
  {
   "cell_type": "code",
   "execution_count": 8,
   "id": "1d55ad10-60a6-41bd-983a-d9ffbd965178",
   "metadata": {},
   "outputs": [
    {
     "name": "stdout",
     "output_type": "stream",
     "text": [
      "CPU times: user 5.78 ms, sys: 2.88 ms, total: 8.67 ms\n",
      "Wall time: 2.15 s\n"
     ]
    },
    {
     "data": {
      "text/plain": [
       "'\\ngraph LR\\nPlayers[Players] --> Seasons[Seasons]\\nSeasons[Seasons] --> Games[Games]'"
      ]
     },
     "execution_count": 8,
     "metadata": {},
     "output_type": "execute_result"
    }
   ],
   "source": [
    "%%time\n",
    "generate_marmaidjs_diagram = (\"Generate marmaid.js code that shows each table as node and \"\n",
    "                              \"foreign key relationships as edges between the nodes.\")\n",
    "in_context_of('example.db')(ask_to=generate_marmaidjs_diagram)"
   ]
  },
  {
   "cell_type": "code",
   "execution_count": null,
   "id": "ca434c77-cbd1-479c-9069-ade8eb13c3f8",
   "metadata": {},
   "outputs": [],
   "source": []
  }
 ],
 "metadata": {
  "kernelspec": {
   "display_name": "Python 3 (ipykernel)",
   "language": "python",
   "name": "python3"
  },
  "language_info": {
   "codemirror_mode": {
    "name": "ipython",
    "version": 3
   },
   "file_extension": ".py",
   "mimetype": "text/x-python",
   "name": "python",
   "nbconvert_exporter": "python",
   "pygments_lexer": "ipython3",
   "version": "3.9.1"
  }
 },
 "nbformat": 4,
 "nbformat_minor": 5
}
